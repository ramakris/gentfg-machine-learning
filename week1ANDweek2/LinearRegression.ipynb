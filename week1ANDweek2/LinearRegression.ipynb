{
 "cells": [
  {
   "cell_type": "markdown",
   "metadata": {},
   "source": [
    "# Simple Linear Regression (one Variable/Feature)"
   ]
  },
  {
   "cell_type": "markdown",
   "metadata": {},
   "source": [
    "Let's fabricate some data that shows a roughly linear relationship between page speed and amount purchased:"
   ]
  },
  {
   "cell_type": "code",
   "execution_count": 2,
   "metadata": {},
   "outputs": [
    {
     "name": "stdout",
     "output_type": "stream",
     "text": [
      "[ 2.47790128  3.05909916  1.58949433  2.50708435  3.57675283  1.73277151\n",
      "  3.36016765  3.9026668   3.57087179  3.28670083  1.7337741   1.5806873\n",
      "  4.79877407  1.58928153  1.77199774  3.24317123  4.71274416  1.47766419\n",
      "  0.97557575  2.15725161  2.94680363  1.44132022  3.83530649  3.53183357\n",
      "  3.21620359  3.52532332  3.10103408  3.85518419  4.47742058  2.97885197\n",
      "  4.10193757  4.39127515  3.45154287  2.61399626  1.64597203  2.14389957\n",
      "  2.98914988  3.26400103  3.18380404  4.36430732  4.11635785  2.60269616\n",
      "  1.93628495  4.17240808  3.25487661  3.11966677  2.98806306  3.96819518\n",
      "  0.97147226  1.46336955  5.64946809  3.82014354  3.09313933  2.94438414\n",
      "  3.0265997   4.33847795  2.38190853  1.75171516  3.24126555  3.15109476\n",
      "  3.18930919  5.23105595  3.6836316   1.43642188  2.90270903  2.95710032\n",
      "  3.68092996  2.17447301  2.11238985  1.68214155  0.4648706   4.50757746\n",
      "  2.39335112  2.94451383  2.61531769  3.57776914  2.77697777  2.84283019\n",
      "  2.59983821  2.21885487  2.13118689  3.12703815  2.73130307  2.10406509\n",
      "  3.72457739  3.98289265  3.96447041  2.71437381  3.10263583  3.10752069\n",
      "  2.98115658  1.39652026  3.89498909  2.69016778  4.03216395  3.05845661\n",
      "  4.22818305  1.32668458  3.04024782  4.70837084  3.51083698  2.51824275\n",
      "  2.89713422  1.47077489  3.88631467  3.02404675  3.69721586  4.13588472\n",
      "  3.28822827  3.04570457  4.19565847  2.72209673  3.28297667  3.83768324\n",
      "  2.7866459   3.0188752   3.31359567  1.32486328  3.6446346   2.36391322\n",
      "  3.52681366  3.94153666  2.31113685  3.40142258  1.76494344  2.91094493\n",
      "  3.14792684  4.24305323  3.50149669  2.10437721  2.74954708  2.82653194\n",
      "  1.83066154  3.93535819  2.85627153  2.78929248  2.18291628  2.95624271\n",
      "  2.67403064  3.87055162  2.49422106  2.38616651  3.28437645  3.42025459\n",
      "  2.2452672   3.7104535   2.58717388  3.25217413  2.3685837   4.1135339\n",
      "  3.27199216  3.86009539  3.49350587  4.17501668  2.10857915  2.91176442\n",
      "  2.97107738  4.30607413  3.16098733  1.80158235  2.52542841  2.54917521\n",
      "  2.88863727  3.31500998  3.32590253  1.96496     3.60368586  3.22528047\n",
      "  1.96289643  2.20072975  3.00294042  3.36403947  2.52065766  2.27851384\n",
      "  2.970603    0.55613192  3.64989758  3.5034159   3.92946519  4.07604675\n",
      "  4.09886669  3.4776753   3.43599469  4.19189188  2.26522471  4.724291\n",
      "  4.49012425  4.8915687   1.49551253  3.59110481  3.59981468  3.33736039\n",
      "  1.84282008  2.83421091  2.53860594  2.08392392  3.06561146  2.70953992\n",
      "  3.10801296  1.06498744  4.8190342   1.33826778  3.4710249   2.44784859\n",
      "  0.52874388  3.9463039   4.18632721  3.48816504  2.24140868  2.82327166\n",
      "  2.88866997  5.5777911   2.8756242   4.75587424  2.084304    1.51623986\n",
      "  2.04188032  1.23926333  1.3844468   3.09162481  3.30506144  2.23147539\n",
      "  1.34799363  3.00664911  3.31294923  3.81291287  3.77684936  3.08617585\n",
      "  3.74311532  2.47692645  2.24502238  2.33374914  2.61607228  1.93916405\n",
      "  1.35600363  3.18412521  2.99089674  4.37311407  2.84840308  6.11097244\n",
      "  1.76901582  2.14355753  4.17296962  2.08332114  1.9322764   3.86946316\n",
      "  3.2117066   3.94863388  3.72567368  3.55705648  3.87862275  3.64003027\n",
      "  3.44522585  2.1437994   1.23982519  2.66657789  2.84285178  3.10456664\n",
      "  3.9004032   4.10045624  4.05789381  2.72677072  2.92889685  3.11041117\n",
      "  3.4272465   3.64483224  1.70861916  2.06165104  3.69897176  1.76255326\n",
      "  3.06970263  2.76553187  2.91581255  3.52034854  1.71345835  2.57265449\n",
      "  3.11219575  2.92206319  2.51346035  2.51383307  2.0186956   2.7583002\n",
      "  2.08834733  3.03178036  2.42948937  3.43533315  1.84206295  3.08127066\n",
      "  3.23548586  3.90798192  2.22527332  3.59402878  4.74074409  4.16041548\n",
      "  2.37368148  4.7272329   2.61508255  3.40906908  3.50096791  1.41270028\n",
      "  2.04442981  2.508754    3.95223564  1.7912806   2.89037825  3.39095523\n",
      "  2.22926071  4.83612317  1.51918439  3.17464351  2.53514969  3.31388391\n",
      "  3.54592914  2.55265981  3.71552702  0.5983156   3.03473853  3.82309355\n",
      "  2.27764193  2.70853333  3.60508337  2.7281186   3.93372074  2.53548359\n",
      "  3.01325702  2.50062541  2.37560636  3.73094071  1.78551937  2.11710259\n",
      "  3.86840989  2.39693863  4.16871869  1.70665939  4.36213227  3.70767418\n",
      "  3.02783492  2.71545247  1.41653412  3.41587726  3.03394518  2.92204276\n",
      "  1.41034601  2.5706877   2.33481655  4.42466832  4.16171964  1.51310158\n",
      "  2.28851799  2.96625439  2.27438979  3.23090494  1.23795438  4.54751694\n",
      "  2.72381164  3.87490232  1.92574743  3.34073845  1.78510502  4.60335223\n",
      "  2.08393318  2.83356537  2.22959134  2.27350864  3.45948767  2.50387866\n",
      "  2.04467546  2.39740217  2.35904796  2.94066994  3.10403248  3.50365939\n",
      "  4.29442019  3.43830928  3.39635479  4.14816928  2.17232352  3.27433276\n",
      "  3.25617839  2.26538709  2.45061131  1.63586871  4.57868431  4.60041766\n",
      "  3.97067296  3.63235477  3.07070932  3.58902778 -0.33054763  5.00227098\n",
      "  4.07087139  1.21319989  2.0367731   2.26499032  3.05297236  4.52810617\n",
      "  3.22881348  2.88957591  4.00622452  0.8815523   2.34265506  4.4982936\n",
      "  2.11581111  3.9976284   3.02482554  2.55313191  4.68889075  0.20273649\n",
      "  2.20977437  3.26113725  1.7844821   2.64450198  2.26818401  4.67924265\n",
      "  2.88088377  2.95327542  2.06471537  3.06581943  2.38459071  2.5329932\n",
      "  4.01379221  3.45136659  3.34523009  2.89119287  5.01875609  1.80330353\n",
      "  3.55442425  4.26111163  3.61566485  4.11373014  3.87060948  3.14584444\n",
      "  3.67280552  4.58459866  3.22547702  5.66657324  3.49451459  2.47897423\n",
      "  2.02607857  2.27669272  2.30556427  3.9965049   2.85126545  3.47750869\n",
      "  1.68178531  3.37059784  2.66440779  3.36226461  1.74351955  2.9962488\n",
      "  4.171667    2.78727245  2.95324755  2.31195086  5.71456265  1.09582866\n",
      "  4.38128301  6.1831979   3.26989985  4.40972256  2.23411097  5.91220853\n",
      "  3.65421884  2.98473148  3.41586032  3.82683984  2.95203039  2.46276286\n",
      "  3.65041251  1.74498728  3.42724993  3.85651185  2.70302721  3.28097785\n",
      "  4.90529198  3.02818332  3.7490159   2.84574579  2.5846411   1.53319847\n",
      "  3.26706676  4.33382682  2.95924905  4.14211382  1.93566737  3.70159013\n",
      "  1.99732386  3.27051477  3.6801313   0.50635862  2.49514771  2.08320317\n",
      "  2.01510481  3.68002215  3.88689355  4.09233163  3.05789445  3.10103287\n",
      "  3.44183401  2.8441704   1.80451992  2.46506654  3.10635737  4.17548774\n",
      "  1.91357393  3.10310503  2.85658042  1.73921752  1.63461263  2.0779473\n",
      "  3.29082199  4.66997969  2.97111468  4.69226112  3.59469242  3.13475078\n",
      "  3.73033371  1.75014907  4.11243644  3.54891438  3.66024644  1.67030905\n",
      "  3.25675862  4.27758     4.55869582  3.45772202  4.17761356  3.7283055\n",
      "  2.93661943  3.6580203   2.81163339  3.2839089   2.11740906  2.44255182\n",
      "  3.92833662  2.48426077  3.38594094  4.13192822  3.31383359  2.91235788\n",
      "  4.23757396  2.90695701  2.12348397  3.63104171  1.83237936 -0.50079117\n",
      "  4.40088772  2.1309003   4.30919002  2.18401204  3.18894798  1.07471426\n",
      "  3.10992717  2.27263856  2.23904298  3.70823794  3.42980974  3.04620706\n",
      "  3.75073633  1.99952688  3.71105892  2.93644873  3.4846235   2.27875457\n",
      "  4.13026476  1.69618651  2.04648439  4.83837947  2.94600139  3.59205277\n",
      "  3.53582606  2.62639216  2.49423486  3.91467818  2.9830412   4.26380526\n",
      " -0.24562691  4.09594207  2.88363929  3.39779564  3.10738186  2.4749607\n",
      "  2.74508423  2.7383111   3.96048384  1.79570119  4.02600194  2.6905928\n",
      "  3.07179766  1.92150211  2.54726092  4.54107303  2.02083166  3.56889092\n",
      "  4.58710656  3.15508593  0.97206105  3.2117275   3.21043252  3.30486096\n",
      "  3.62211208  1.67645862  3.07937899  2.04791506  1.69975899  1.8241463\n",
      "  4.85977161  2.69781718  2.92656036  3.68787587  3.29580786  3.6554166\n",
      "  4.26063558  3.97084093  2.19204459  5.79128547  3.64766648  3.00694592\n",
      "  4.17378941  2.35150078  1.81053663  1.74146201  4.25859243  3.82734699\n",
      "  4.06970531  2.75218637  2.81554143  4.03954238  2.11915969  1.3799069\n",
      "  4.30433616  3.16255835  2.65869789  4.22440766  0.6733702   4.15181089\n",
      "  2.70682294  1.70795745  4.81676264  3.74910378  2.51773342  2.89880279\n",
      "  2.05009966  1.4124055   2.33590189  1.72942478  2.57162528  2.69083267\n",
      "  3.75936507  3.9191643   2.9250597   2.71550512  1.95984022  3.07901757\n",
      "  1.68104302  3.41127369  1.85687751  3.09503409  4.69376859  3.07954322\n",
      "  2.42598601  1.8222925   3.6492121   2.50269177  1.91908141  2.28296979\n",
      "  2.93386252  4.62052981  3.79584798  2.30810838 -0.10251632  3.75757018\n",
      "  4.82785736  3.05725533  1.55426493  3.84217416  2.05845027  3.1256614\n",
      "  1.35013441  2.63598298  3.84216203  1.78585647  3.2556035   4.803905\n",
      "  2.65821823  1.75501492  2.69874527  2.47663202  3.97140403  1.69217795\n",
      "  0.65499543  1.42485563  2.47253795  2.7571128   1.59034004  3.35054948\n",
      "  4.17099714  4.23953254  3.07982387  2.07658447  1.66823923  4.53769847\n",
      "  3.61913121  2.12052393  1.77095448  2.1485242   4.76284427  3.83322844\n",
      "  2.38573283  3.85708172  3.67549995  2.24708041  4.48780308  3.36659776\n",
      "  3.33709375  3.72882158  5.05776888  4.85598412  2.78540796  2.05815505\n",
      "  1.72779886  4.75066306  2.9720277   3.21416687  3.70521145  1.43186124\n",
      "  2.89264973  2.8571936   1.79401273  3.98065738  2.32904794  3.37957772\n",
      "  2.52251716  4.2724545   3.30608006  3.35036833  3.71455705  2.94901117\n",
      "  3.20628433  3.71371962  3.83734282  3.84384585  1.94478991  1.50612873\n",
      "  3.01874916  3.66234364  3.76066178  2.19776999  3.15488667  3.33299431\n",
      "  2.49807257  3.08947775  2.94641418  3.10862429  3.44051593  0.63016175\n",
      "  3.23654077  1.01155407  2.39041106  3.82075185  3.25895799  2.50329275\n",
      "  3.4508762   2.60527236  3.23395683  4.81335464  2.60542794  3.63430508\n",
      "  3.3416198   2.18684362  4.13377104  2.58906443  2.20251974  1.23816524\n",
      "  4.5847339   2.38993637  2.20218866  3.27835735  3.19132337  1.52843135\n",
      "  4.23313276  1.75238053  2.35031885  3.53975266  0.49635828  2.00906769\n",
      "  1.42550609  3.62243545  2.51913193  3.12497286  3.09460656  5.2817677\n",
      "  4.01404703  3.77459931  1.5217576   4.16244287  3.40992239  3.98564473\n",
      "  2.0032313   0.98736777  4.07301999  3.60094071  1.29283276  1.31036072\n",
      "  4.27296954  1.69053936  3.18946839  3.41743169  1.68111429  4.99366163\n",
      "  1.80377178  3.6331872   2.42523874  0.55106993  3.61089749  4.08383476\n",
      "  4.30746913  3.09679317  3.56229695  3.2189235   5.18889703  3.03245262\n",
      "  2.133706    2.07926158  2.19539512  1.89095044  2.1159842   2.34942532\n",
      "  3.16872019  1.51066835  2.51905099  1.79101851  2.95924531  4.06170494\n",
      "  1.28426345  2.16403658  3.31438338  3.55233854  2.1545824   2.28018915\n",
      "  2.12804855  2.22909424  1.93123849  4.26351835  3.32912848  2.56060555\n",
      "  1.12005511  3.5006418   3.43989298  2.24801156  3.90443542  3.82772227\n",
      "  3.72473427  1.72316998  2.35649223  2.64498374  2.08915544  2.75396314\n",
      "  2.20947186  5.19714537  3.99342679  3.26861305  2.55638638  1.79356022\n",
      "  1.21886704  3.39444945  2.72712988  3.5500621   2.42191277  4.05585727\n",
      "  4.41120438  4.50231752  1.84424129  2.58235059  3.12737633  2.80469562\n",
      "  3.04632378  3.75919177  2.80809819  2.94168963  3.37094662  2.18527499\n",
      "  2.93671581  2.61682116  5.45012547  1.79707612  1.97431632  4.27968808\n",
      "  2.78757287  2.03846835  2.30966092  2.96933156  3.68037475  2.66213307\n",
      "  2.21528696  1.44523019  4.23501969  1.85171659  2.88993451  3.96533136\n",
      "  2.86554153  2.36299627  0.00932042  2.1444889   1.75005581  2.23749892\n",
      "  2.87237248  3.40338228  3.91774952  3.022905    2.33310662  4.01983057\n",
      "  3.90183726  3.45892431  2.79679134  5.35596417  2.3261736   1.71835529\n",
      "  2.97366511  4.06344317  2.41405804  2.55026005  3.46264916  1.78178136\n",
      "  2.7087906   4.01405071  3.01403713  1.34551057  2.87824541  3.65399853\n",
      "  1.93656288  3.24262264  1.44242508  3.38805169  2.90719997  2.48817297\n",
      "  3.73598012  3.02341577  2.10006137  3.97253055  4.35646635  4.29905478\n",
      "  3.02863521  3.04671526  3.17828334  3.08484266  3.06790165  3.92428373\n",
      "  3.77839222  6.12431045  3.15730974  2.64904878  3.23615765  2.36045165\n",
      "  3.75038506  3.62351309  2.4851631   2.08566811  4.3841326   3.65660536\n",
      "  2.98824708  3.12368638  5.33981232  2.53468014  3.41409161  0.90768788\n",
      "  4.05341856  2.4987502   3.77288751  3.68473406  4.23796776  4.01124698\n",
      "  3.13806822  3.05676217  3.36973208  3.15371069  2.59681773  3.02778538\n",
      "  2.14169491  2.54514161  1.59157232  2.4047899   3.10491496  3.08758559\n",
      "  1.7759917   2.64289738  3.53289879  3.99513021  3.28776427  2.24856105\n",
      "  3.29978608  4.37683956  1.1241727   3.44719421  3.14226167  4.62414168\n",
      "  2.02992699  3.49012362  2.7475742   3.00368046]\n"
     ]
    },
    {
     "data": {
      "text/plain": [
       "<matplotlib.collections.PathCollection at 0x7fb1af345320>"
      ]
     },
     "execution_count": 2,
     "metadata": {},
     "output_type": "execute_result"
    },
    {
     "data": {
      "image/png": "[encoded data removed]",
      "text/plain": [
       "<matplotlib.figure.Figure at 0x7fb1d9824d30>"
      ]
     },
     "metadata": {},
     "output_type": "display_data"
    }
   ],
   "source": [
    "%matplotlib inline\n",
    "import numpy as np\n",
    "from pylab import *\n",
    "\n",
    "pageSpeeds = np.random.normal(3.0, 1.0, 1000)\n",
    "print(pageSpeeds)\n",
    "purchaseAmount = (pageSpeeds + np.random.normal(0, 0.1, 1000)) * 3\n",
    "#purchaseAmount = 100 - (pageSpeeds + np.random.normal(0, 0.1, 1000)) * 3\n",
    "\n",
    "\n",
    "scatter(pageSpeeds, purchaseAmount)"
   ]
  },
  {
   "cell_type": "markdown",
   "metadata": {},
   "source": [
    "As we only have two features, we can keep it simple and just use **scipy.state.linregress**.\n",
    "\n",
    "A line that fits the data \"best\" will be one for which the n prediction errors — one for each observed data point — are as small as possible in some overall sense. One way to achieve this goal is to invoke the \"least squares criterion,\" which says to \"minimize the sum of the squared prediction errors.\".\n"
   ]
  },
  {
   "cell_type": "markdown",
   "metadata": {},
   "source": [
    "# What is R-Squared:\n",
    "\n",
    "\n",
    "\n",
    "R-squared is a statistical measure of how close the data are to the fitted regression line. It is also known as the coefficient of determination, or the coefficient of multiple determination for multiple regression.The definition of R-squared is fairly straight-forward; it is the percentage of the response variable variation that is explained by a linear model. Or:\n",
    "\n",
    "R-squared = Explained variation / Total variation\n",
    "\n",
    "R-squared is always between 0 and 100%:\n",
    "\n",
    "0% indicates that the model explains none of the variability of the response data around its mean.\n",
    "\n",
    "100% indicates that the model explains all the variability of the response data around its mean.\n",
    "In general, the higher the R-squared, the better the model fits your data. This is not always true because a very ** high R-squared can also mean that the model is overfitted ** (we will talk about this later)\n",
    "\n",
    "\n",
    "# What is P-Value\n",
    "\n",
    "P-values and coefficients in regression analysis work together to tell you which relationships in your model are statistically significant and the nature of those relationships. The coefficients describe the mathematical relationship between each independent variable and the dependent variable. The p-values for the coefficients indicate whether these relationships are statistically significant.p-value helps you to decide whether there is a relationship between two variables or not.\n",
    "\n",
    "The smaller the p-value  means the more confident you are about the existence of relationship between the two variables. The origin of p-values comes from hypothesis testing in statistics. In hypothesis testing, you have two hypothesis:\n",
    "\n",
    "H0 (called the null hypothesis ) : There is no relationship between the two variables.\n",
    "\n",
    "H1 (called the alternative hypothesis): There exist a relationship between the two variables.\n",
    "\n",
    "If the p-value is less than small threshold (often 0.05 is used), then you can reject the null hypothesis H0, which means that you decide that there is a relationship between the two variables.\n",
    "\n",
    "One intuitive interpretation of p-value: it is the likelihood of observing the data points when the null hypothesis is true (there is no relationship between the two variables). Therefore, if the p-value is too small this means that it is very unlikely that the dataset was generated by chance and we decide that null hypothesis is false.\n",
    "\n",
    "#  What is t-Statistic\n",
    "\n",
    "The t statistic is the coefficient divided by its standard error. The standard error is an estimate of the standard deviation of the coefficient, the amount it varies across cases. It can be thought of as a measure of the precision with which the regression coefficient is measured."
   ]
  },
  {
   "cell_type": "code",
   "execution_count": 13,
   "metadata": {
    "collapsed": true
   },
   "outputs": [],
   "source": [
    "from scipy import stats\n",
    "\n",
    "slope, intercept, r_value, p_value, std_err = stats.linregress(pageSpeeds, purchaseAmount)\n"
   ]
  },
  {
   "cell_type": "markdown",
   "metadata": {},
   "source": [
    "Not surprisngly, our R-squared value shows a really good fit:"
   ]
  },
  {
   "cell_type": "code",
   "execution_count": 14,
   "metadata": {},
   "outputs": [
    {
     "data": {
      "text/plain": [
       "0.9948822201312465"
      ]
     },
     "execution_count": 14,
     "metadata": {},
     "output_type": "execute_result"
    }
   ],
   "source": [
    "r_value   ###  Also known  (Pearson) Correlation Coefficient "
   ]
  },
  {
   "cell_type": "code",
   "execution_count": 15,
   "metadata": {},
   "outputs": [
    {
     "data": {
      "text/plain": [
       "0.989790631933278"
      ]
     },
     "execution_count": 15,
     "metadata": {},
     "output_type": "execute_result"
    }
   ],
   "source": [
    "r_value ** 2   ### Also know as Coefficient of Determination."
   ]
  },
  {
   "cell_type": "code",
   "execution_count": 16,
   "metadata": {},
   "outputs": [
    {
     "data": {
      "text/plain": [
       "0.009685682010839428"
      ]
     },
     "execution_count": 16,
     "metadata": {},
     "output_type": "execute_result"
    }
   ],
   "source": [
    "std_err"
   ]
  },
  {
   "cell_type": "code",
   "execution_count": 17,
   "metadata": {},
   "outputs": [
    {
     "data": {
      "text/plain": [
       "0.0"
      ]
     },
     "execution_count": 17,
     "metadata": {},
     "output_type": "execute_result"
    }
   ],
   "source": [
    "p_value\n"
   ]
  },
  {
   "cell_type": "code",
   "execution_count": 18,
   "metadata": {},
   "outputs": [
    {
     "data": {
      "text/plain": [
       "3.0127820573492463"
      ]
     },
     "execution_count": 18,
     "metadata": {},
     "output_type": "execute_result"
    }
   ],
   "source": [
    "slope"
   ]
  },
  {
   "cell_type": "code",
   "execution_count": 19,
   "metadata": {},
   "outputs": [
    {
     "data": {
      "text/plain": [
       "-0.03508789353920072"
      ]
     },
     "execution_count": 19,
     "metadata": {},
     "output_type": "execute_result"
    }
   ],
   "source": [
    "intercept"
   ]
  },
  {
   "cell_type": "markdown",
   "metadata": {},
   "source": [
    "The estimated slope and the correlation coefficient r always share the same sign. Furthermore, because r2 is always a number between 0 and 1, the correlation coefficient r is always a number between -1 and 1."
   ]
  },
  {
   "cell_type": "markdown",
   "metadata": {},
   "source": [
    "Let's use the slope and intercept we got from the regression to plot predicted values vs. observed:"
   ]
  },
  {
   "cell_type": "code",
   "execution_count": 20,
   "metadata": {},
   "outputs": [
    {
     "data": {
      "image/png": "[encoded data removed]",
      "text/plain": [
       "<matplotlib.figure.Figure at 0x7ffabba0ae10>"
      ]
     },
     "metadata": {},
     "output_type": "display_data"
    }
   ],
   "source": [
    "import matplotlib.pyplot as plt\n",
    "\n",
    "def predict(x):\n",
    "    return slope * x + intercept\n",
    "\n",
    "fitLine = predict(pageSpeeds)\n",
    "#print fitLine\n",
    "\n",
    "plt.scatter(pageSpeeds, purchaseAmount)\n",
    "plt.plot(pageSpeeds, fitLine, c='r')\n",
    "plt.show()"
   ]
  },
  {
   "cell_type": "markdown",
   "metadata": {},
   "source": [
    "## Activity"
   ]
  },
  {
   "cell_type": "markdown",
   "metadata": {},
   "source": [
    "Try increasing the random variation in the test data, and see what effect it has on the r-squared error value."
   ]
  },
  {
   "cell_type": "code",
   "execution_count": 21,
   "metadata": {},
   "outputs": [
    {
     "name": "stdout",
     "output_type": "stream",
     "text": [
      "total 820\r\n",
      "-rw-r--r-- 1 rbhupathi users   2625 Feb 15 14:02  birthday-probability.ipynb\r\n",
      "-rw-r--r-- 1 rbhupathi users      0 Feb  3 22:36  file.csv\r\n",
      "-rw-r--r-- 1 rbhupathi users    150 Feb  4 15:14  file.txt\r\n",
      "-rw-r--r-- 1 rbhupathi users   9170 Feb 10 19:31 'Getting started with iPython Notebook.ipynb'\r\n",
      "-rw-r--r-- 1 rbhupathi users  46870 Feb  8 15:35 'Getting Started with SFrames.ipynb'\r\n",
      "-rw-r--r-- 1 rbhupathi users  33813 Feb 17 18:42  LinearRegression.ipynb\r\n",
      "-rw-r--r-- 1 rbhupathi users 486558 Feb  8 16:01 'Machine Learning -1.pdf'\r\n",
      "-rw-r--r-- 1 rbhupathi users 159485 Feb 10 22:20  MachineLearning-Installation-CheatSheet.pdf\r\n",
      "-rw-r--r-- 1 rbhupathi users  18471 Feb 10 19:57 'Numpy Tutorial.ipynb'\r\n",
      "-rw-r--r-- 1 rbhupathi users    248 Feb  2 10:40  people-example.csv\r\n",
      "-rw-r--r-- 1 rbhupathi users  31920 Feb  8 17:19  PolynomialRegression.ipynb\r\n",
      "-rw-r--r-- 1 rbhupathi users   7080 Feb 11 07:56  probchart-birthday.GIF\r\n",
      "-rw-r--r-- 1 rbhupathi users  11741 Feb 17 18:32  simpleLL.ipynb\r\n"
     ]
    }
   ],
   "source": [
    "!ls -l\n",
    "\n"
   ]
  },
  {
   "cell_type": "markdown",
   "metadata": {},
   "source": [
    "Copyright © 2018 Bhupathi Consulting Inc."
   ]
  },
  {
   "cell_type": "code",
   "execution_count": null,
   "metadata": {
    "collapsed": true
   },
   "outputs": [],
   "source": []
  }
 ],
 "metadata": {
  "kernelspec": {
   "display_name": "Python 3",
   "language": "python",
   "name": "python3"
  },
  "language_info": {
   "codemirror_mode": {
    "name": "ipython",
    "version": 3
   },
   "file_extension": ".py",
   "mimetype": "text/x-python",
   "name": "python",
   "nbconvert_exporter": "python",
   "pygments_lexer": "ipython3",
   "version": "3.6.0"
  }
 },
 "nbformat": 4,
 "nbformat_minor": 1
}
